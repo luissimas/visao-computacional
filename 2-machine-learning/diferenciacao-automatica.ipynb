{
 "cells": [
  {
   "cell_type": "code",
   "execution_count": 4,
   "id": "f7ae914e-5024-4804-aaf2-a03beb924c00",
   "metadata": {},
   "outputs": [
    {
     "data": {
      "text/plain": [
       "tensor(8.)"
      ]
     },
     "execution_count": 4,
     "metadata": {},
     "output_type": "execute_result"
    }
   ],
   "source": [
    "import torch\n",
    "\n",
    "x = torch.tensor(1., requires_grad=True)\n",
    "y = 4*x**2\n",
    "y.backward()\n",
    "\n",
    "dydx = x.grad\n",
    "dydx"
   ]
  },
  {
   "cell_type": "code",
   "execution_count": 7,
   "id": "d992e548-1fcb-49f7-b82f-174ec7c4a19f",
   "metadata": {},
   "outputs": [
    {
     "data": {
      "text/plain": [
       "[tensor(3.), tensor(2.4444), tensor(2.), tensor(-0.3333)]"
      ]
     },
     "execution_count": 7,
     "metadata": {},
     "output_type": "execute_result"
    }
   ],
   "source": [
    "def function(x1, x2, x3, x4):\n",
    "    return x1*x2 + x3**2 - x4/x2\n",
    "\n",
    "def gradient(y, x1, x2, x3, x4):\n",
    "    y.backward()\n",
    "    grad = [x1.grad, x2.grad, x3.grad, x4.grad]\n",
    "    return grad\n",
    "\n",
    "x1 = torch.tensor(2., requires_grad=True)\n",
    "x2 = torch.tensor(3., requires_grad=True)\n",
    "x3 = torch.tensor(1., requires_grad=True)\n",
    "x4 = torch.tensor(4., requires_grad=True)\n",
    "\n",
    "y = function(x1, x2, x3, x4)\n",
    "grad = gradient(y, x1, x2, x3, x4)\n",
    "grad"
   ]
  },
  {
   "cell_type": "markdown",
   "id": "59adc715-11d8-4c2a-a4d7-1a1bcc5a5c0d",
   "metadata": {},
   "source": [
    "# Regressão linear usando diferenciação automática"
   ]
  },
  {
   "cell_type": "code",
   "execution_count": 17,
   "id": "40319da2-a01e-4e44-8cde-b26b5d438b15",
   "metadata": {},
   "outputs": [
    {
     "data": {
      "text/plain": [
       "[<matplotlib.lines.Line2D at 0x7f765c9867b0>]"
      ]
     },
     "execution_count": 17,
     "metadata": {},
     "output_type": "execute_result"
    },
    {
     "data": {
      "image/png": "[encoded data removed]",
      "text/plain": [
       "<Figure size 640x480 with 1 Axes>"
      ]
     },
     "metadata": {},
     "output_type": "display_data"
    }
   ],
   "source": [
    "import numpy as np\n",
    "import matplotlib.pyplot as plt\n",
    "import torch\n",
    "\n",
    "class Model:\n",
    "    def __init__(self, a: float, b: float):\n",
    "        self.a = torch.tensor(a, requires_grad=True)\n",
    "        self.b = torch.tensor(b, requires_grad=True)\n",
    "\n",
    "    def __call__(self, x):\n",
    "        return self.a * x + self.b\n",
    "\n",
    "def mse(model, x, y):\n",
    "    ym = model(x)\n",
    "    error = torch.mean((y - ym) ** 2)\n",
    "    \n",
    "    return error\n",
    "\n",
    "def step(mode, x, y, learning_rate):\n",
    "    error = mse(model, x, y)\n",
    "    model.a.grad = None\n",
    "    model.b.grad = None\n",
    "    error.backward()\n",
    "\n",
    "    with torch.no_grad():\n",
    "        model.a -= learning_rate * model.a.grad\n",
    "        model.b -= learning_rate * model.b.grad\n",
    "\n",
    "    return error.item()\n",
    "\n",
    "def train(model, x, y, learning_rate, num_epochs):\n",
    "    errors = []\n",
    "    for _ in range(num_epochs):\n",
    "        error = step(model, x, y, learning_rate)\n",
    "        errors.append(error)\n",
    "\n",
    "    return errors\n",
    "\n",
    "data = torch.from_numpy(np.loadtxt(\"../data/age_data_1.txt\"))\n",
    "x, y = data.T\n",
    "model = Model(a=1., b=0.)\n",
    "errors = train(model, x, y, learning_rate=0.3, num_epochs=100)\n",
    "plt.plot(errors)"
   ]
  }
 ],
 "metadata": {
  "kernelspec": {
   "display_name": "Python 3 (ipykernel)",
   "language": "python",
   "name": "python3"
  },
  "language_info": {
   "codemirror_mode": {
    "name": "ipython",
    "version": 3
   },
   "file_extension": ".py",
   "mimetype": "text/x-python",
   "name": "python",
   "nbconvert_exporter": "python",
   "pygments_lexer": "ipython3",
   "version": "3.12.2"
  }
 },
 "nbformat": 4,
 "nbformat_minor": 5
}
