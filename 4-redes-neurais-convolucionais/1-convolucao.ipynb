{
 "cells": [
  {
   "cell_type": "markdown",
   "id": "3ed8224e-e855-4b3a-824d-a9e124ebc753",
   "metadata": {},
   "source": [
    "# Convolução"
   ]
  },
  {
   "cell_type": "code",
   "execution_count": 1,
   "id": "8e189a8d-6a1d-4bb1-93cf-c96362aa6baa",
   "metadata": {},
   "outputs": [
    {
     "ename": "ModuleNotFoundError",
     "evalue": "No module named 'torch'",
     "output_type": "error",
     "traceback": [
      "\u001b[0;31m---------------------------------------------------------------------------\u001b[0m",
      "\u001b[0;31mModuleNotFoundError\u001b[0m                       Traceback (most recent call last)",
      "Cell \u001b[0;32mIn[1], line 1\u001b[0m\n\u001b[0;32m----> 1\u001b[0m \u001b[38;5;28;01mimport\u001b[39;00m \u001b[38;5;21;01mtorch\u001b[39;00m\n\u001b[1;32m      2\u001b[0m \u001b[38;5;28;01mfrom\u001b[39;00m \u001b[38;5;21;01mtorch\u001b[39;00m \u001b[38;5;28;01mimport\u001b[39;00m nn\n\u001b[1;32m      3\u001b[0m \u001b[38;5;28;01mimport\u001b[39;00m \u001b[38;5;21;01mtorch\u001b[39;00m\u001b[38;5;21;01m.\u001b[39;00m\u001b[38;5;21;01mnn\u001b[39;00m\u001b[38;5;21;01m.\u001b[39;00m\u001b[38;5;21;01mfunctional\u001b[39;00m \u001b[38;5;28;01mas\u001b[39;00m \u001b[38;5;21;01mF\u001b[39;00m\n",
      "\u001b[0;31mModuleNotFoundError\u001b[0m: No module named 'torch'"
     ]
    }
   ],
   "source": [
    "import torch\n",
    "from torch import nn\n",
    "import torch.nn.functional as F\n",
    "\n",
    "x = torch.tensor([5, 4, 8, 7, 9, 3, 6], dtype=torch.float32)\n",
    "weight = torch.tensor([1, 2, 3], dtype=torch.float32)\n",
    "kernel_size = len(weight)\n",
    "# Adiciona dimensão do batch e canal\n",
    "x = x.reshape(1, 1, len(x))\n",
    "weight = weight.reshape(1, 1, len(weight))\n",
    "\n",
    "y = F.conv1d(x, weight, padding=kernel_size//2)\n",
    "y"
   ]
  },
  {
   "cell_type": "code",
   "execution_count": 18,
   "id": "5bf6f3dd-c2bc-499c-8793-fa7d1862cc2b",
   "metadata": {},
   "outputs": [
    {
     "data": {
      "text/plain": [
       "tensor([[[22., 37., 41., 49., 34., 33., 15.]]], grad_fn=<ConvolutionBackward0>)"
      ]
     },
     "execution_count": 18,
     "metadata": {},
     "output_type": "execute_result"
    }
   ],
   "source": [
    "conv = nn.Conv1d(in_channels=1, out_channels=1, kernel_size=kernel_size, padding=kernel_size//2, bias=False)\n",
    "\n",
    "with torch.no_grad():\n",
    "    conv.weight[:] = weight\n",
    "\n",
    "conv(x)"
   ]
  },
  {
   "cell_type": "markdown",
   "id": "88a5e842-8a13-4ede-a3bc-1e17bea7eeb0",
   "metadata": {},
   "source": [
    "## Uma convolução pode ser implementada como um produto matricial"
   ]
  },
  {
   "cell_type": "code",
   "execution_count": 21,
   "id": "bbb99fea-0073-418a-ab37-5907f14d60b1",
   "metadata": {},
   "outputs": [
    {
     "data": {
      "text/plain": [
       "tensor([22., 37., 41., 49., 34., 33., 15.])"
      ]
     },
     "execution_count": 21,
     "metadata": {},
     "output_type": "execute_result"
    }
   ],
   "source": [
    "matrix = torch.tensor([\n",
    "    [2, 3, 0, 0, 0, 0, 0],\n",
    "    [1, 2, 3, 0, 0, 0, 0],\n",
    "    [0, 1, 2, 3, 0, 0, 0],\n",
    "    [0, 0, 1, 2, 3, 0, 0],\n",
    "    [0, 0, 0, 1, 2, 3, 0],\n",
    "    [0, 0, 0, 0, 1, 2, 3],\n",
    "    [0, 0, 0, 0, 0, 1, 2],\n",
    "], dtype=torch.float32)\n",
    "x = torch.tensor([5, 4, 8, 7, 9, 3, 6], dtype=torch.float32)\n",
    "F.linear(x, matrix)"
   ]
  },
  {
   "cell_type": "markdown",
   "id": "825d890e-bcdf-4c82-9592-86dd3bbb322f",
   "metadata": {},
   "source": [
    "## Convolução com mais de um canal"
   ]
  },
  {
   "cell_type": "code",
   "execution_count": 25,
   "id": "aa45dd2d-26c1-4e24-a034-55177d16ed73",
   "metadata": {},
   "outputs": [
    {
     "data": {
      "text/plain": [
       "torch.Size([1, 256, 7])"
      ]
     },
     "execution_count": 25,
     "metadata": {},
     "output_type": "execute_result"
    }
   ],
   "source": [
    "x = torch.rand(size=(1, 4, 7))\n",
    "conv = nn.Conv1d(in_channels=4, out_channels=256, kernel_size=kernel_size, padding=kernel_size//2, bias=False)\n",
    "y = conv(x)\n",
    "y.shape"
   ]
  },
  {
   "cell_type": "markdown",
   "id": "6be3b4a6-4d08-4578-a455-251bef93656b",
   "metadata": {},
   "source": [
    "Em uma camada de convolução:\n",
    "\n",
    "- O número de canais de saída define o número de filtros da camada\n",
    "- Cada filtro possui tamanho espacial `kernel_size`\n",
    "- Cada filtro possui profundidade (número de canais) igual ao tensor de entrada"
   ]
  },
  {
   "cell_type": "code",
   "execution_count": 28,
   "id": "4e56c4b1-0f9c-437e-a2fb-caaa346a878a",
   "metadata": {},
   "outputs": [
    {
     "data": {
      "text/plain": [
       "torch.Size([256, 4, 3])"
      ]
     },
     "execution_count": 28,
     "metadata": {},
     "output_type": "execute_result"
    }
   ],
   "source": [
    "conv.weight.shape"
   ]
  },
  {
   "cell_type": "markdown",
   "id": "d017886b-6b15-4f47-8eb2-cf4df7dc2fee",
   "metadata": {},
   "source": [
    "## Stride\n",
    "\n",
    "O stride define o passo do filtro"
   ]
  },
  {
   "cell_type": "code",
   "execution_count": 32,
   "id": "37114897-3466-4c90-8386-e0889dfbb5c9",
   "metadata": {},
   "outputs": [
    {
     "data": {
      "text/plain": [
       "tensor([[[37., 49., 33.]]])"
      ]
     },
     "execution_count": 32,
     "metadata": {},
     "output_type": "execute_result"
    }
   ],
   "source": [
    "x = torch.tensor([5, 4, 8, 7, 9, 3, 6], dtype=torch.float32)\n",
    "weight = torch.tensor([1, 2, 3], dtype=torch.float32)\n",
    "kernel_size = len(weight)\n",
    "# Adiciona dimensão do batch e canal\n",
    "x = x.reshape(1, 1, len(x))\n",
    "weight = weight.reshape(1, 1, len(weight))\n",
    "\n",
    "y = F.conv1d(x, weight, stride=2)\n",
    "y"
   ]
  },
  {
   "cell_type": "markdown",
   "id": "c22e80ea-f2af-446d-95f4-165b60856c63",
   "metadata": {},
   "source": [
    "## Dilatação"
   ]
  },
  {
   "cell_type": "code",
   "execution_count": 34,
   "id": "40ea866f-bb1c-4921-8a4d-befeba815616",
   "metadata": {},
   "outputs": [
    {
     "data": {
      "text/plain": [
       "tensor([[[48., 27., 44.]]])"
      ]
     },
     "execution_count": 34,
     "metadata": {},
     "output_type": "execute_result"
    }
   ],
   "source": [
    "y = F.conv1d(x, weight, dilation=2)\n",
    "y"
   ]
  }
 ],
 "metadata": {
  "kernelspec": {
   "display_name": "Python 3 (ipykernel)",
   "language": "python",
   "name": "python3"
  },
  "language_info": {
   "codemirror_mode": {
    "name": "ipython",
    "version": 3
   },
   "file_extension": ".py",
   "mimetype": "text/x-python",
   "name": "python",
   "nbconvert_exporter": "python",
   "pygments_lexer": "ipython3",
   "version": "3.12.2"
  }
 },
 "nbformat": 4,
 "nbformat_minor": 5
}
